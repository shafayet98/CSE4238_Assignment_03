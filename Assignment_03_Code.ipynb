{
 "cells": [
  {
   "cell_type": "code",
   "execution_count": 45,
   "metadata": {
    "id": "zMS9ifsnFd52"
   },
   "outputs": [],
   "source": [
    "import pandas as pd\n",
    "import numpy as np\n",
    "import matplotlib.pyplot as plt\n",
    "\n",
    "import chardet\n",
    "import string\n",
    "import re"
   ]
  },
  {
   "cell_type": "code",
   "execution_count": 46,
   "metadata": {
    "id": "4qp5EHrfJPWY"
   },
   "outputs": [],
   "source": [
    "from sklearn.model_selection import train_test_split\n",
    "from sklearn.feature_extraction.text import TfidfVectorizer, CountVectorizer"
   ]
  },
  {
   "cell_type": "code",
   "execution_count": 47,
   "metadata": {
    "colab": {
     "base_uri": "https://localhost:8080/"
    },
    "id": "IJYT9YUMJBsl",
    "outputId": "4f3a8ecd-d071-4683-f352-6a5ec8bf7ad9"
   },
   "outputs": [
    {
     "name": "stdout",
     "output_type": "stream",
     "text": [
      "[nltk_data] Downloading package punkt to /root/nltk_data...\n",
      "[nltk_data]   Package punkt is already up-to-date!\n",
      "[nltk_data] Downloading package stopwords to /root/nltk_data...\n",
      "[nltk_data]   Package stopwords is already up-to-date!\n"
     ]
    }
   ],
   "source": [
    "import nltk\n",
    "nltk.download('punkt')\n",
    "\n",
    "# For tokenizing words and sentences\n",
    "from nltk.tokenize import word_tokenize, sent_tokenize, WhitespaceTokenizer, TweetTokenizer\n",
    "\n",
    "nltk.download('stopwords')\n",
    "from nltk.corpus import stopwords"
   ]
  },
  {
   "cell_type": "code",
   "execution_count": 1,
   "metadata": {
    "colab": {
     "base_uri": "https://localhost:8080/"
    },
    "id": "pe3e0TxOFg1_",
    "outputId": "bbc8125c-511f-4565-8650-c8a8ee6bb5e0"
   },
   "outputs": [
    {
     "name": "stdout",
     "output_type": "stream",
     "text": [
      "Mounted at /content/drive\n"
     ]
    }
   ],
   "source": [
    "from google.colab import drive\n",
    "drive.mount('/content/drive')"
   ]
  },
  {
   "cell_type": "code",
   "execution_count": 48,
   "metadata": {
    "colab": {
     "base_uri": "https://localhost:8080/"
    },
    "id": "KqBNw5erFuph",
    "outputId": "913df2dc-909e-431e-af4c-569729674206"
   },
   "outputs": [
    {
     "data": {
      "text/plain": [
       "{'confidence': 0.99, 'encoding': 'utf-8', 'language': ''}"
      ]
     },
     "execution_count": 48,
     "metadata": {},
     "output_type": "execute_result"
    }
   ],
   "source": [
    "file = \"/content/drive/MyDrive/SoftCompA3/Dataset 3.csv\"\n",
    "with open(file, 'rb') as rawdata:\n",
    "    result = chardet.detect(rawdata.read(100000))\n",
    "result"
   ]
  },
  {
   "cell_type": "code",
   "execution_count": 49,
   "metadata": {
    "id": "-T7HGC0vFusG"
   },
   "outputs": [],
   "source": [
    "df = pd.read_csv(file,encoding='ISO-8859-1')"
   ]
  },
  {
   "cell_type": "code",
   "execution_count": 50,
   "metadata": {
    "colab": {
     "base_uri": "https://localhost:8080/",
     "height": 419
    },
    "id": "AjsIfa6gSs_f",
    "outputId": "72b4cbdd-982a-4fc8-c29c-17c1ae97ec1e"
   },
   "outputs": [
    {
     "data": {
      "text/html": [
       "<div>\n",
       "<style scoped>\n",
       "    .dataframe tbody tr th:only-of-type {\n",
       "        vertical-align: middle;\n",
       "    }\n",
       "\n",
       "    .dataframe tbody tr th {\n",
       "        vertical-align: top;\n",
       "    }\n",
       "\n",
       "    .dataframe thead th {\n",
       "        text-align: right;\n",
       "    }\n",
       "</style>\n",
       "<table border=\"1\" class=\"dataframe\">\n",
       "  <thead>\n",
       "    <tr style=\"text-align: right;\">\n",
       "      <th></th>\n",
       "      <th>tweets</th>\n",
       "      <th>sentiment</th>\n",
       "    </tr>\n",
       "  </thead>\n",
       "  <tbody>\n",
       "    <tr>\n",
       "      <th>0</th>\n",
       "      <td>just had a real good moment. i missssssssss hi...</td>\n",
       "      <td>0</td>\n",
       "    </tr>\n",
       "    <tr>\n",
       "      <th>1</th>\n",
       "      <td>is reading manga  http://plurk.com/p/mzp1e</td>\n",
       "      <td>0</td>\n",
       "    </tr>\n",
       "    <tr>\n",
       "      <th>2</th>\n",
       "      <td>@comeagainjen http://twitpic.com/2y2lx - http:...</td>\n",
       "      <td>0</td>\n",
       "    </tr>\n",
       "    <tr>\n",
       "      <th>3</th>\n",
       "      <td>@lapcat Need to send 'em to my accountant tomo...</td>\n",
       "      <td>0</td>\n",
       "    </tr>\n",
       "    <tr>\n",
       "      <th>4</th>\n",
       "      <td>ADD ME ON MYSPACE!!!  myspace.com/LookThunder</td>\n",
       "      <td>0</td>\n",
       "    </tr>\n",
       "    <tr>\n",
       "      <th>...</th>\n",
       "      <td>...</td>\n",
       "      <td>...</td>\n",
       "    </tr>\n",
       "    <tr>\n",
       "      <th>10309</th>\n",
       "      <td>No Depression by G Herbo is my mood from now o...</td>\n",
       "      <td>1</td>\n",
       "    </tr>\n",
       "    <tr>\n",
       "      <th>10310</th>\n",
       "      <td>What do you do when depression succumbs the br...</td>\n",
       "      <td>1</td>\n",
       "    </tr>\n",
       "    <tr>\n",
       "      <th>10311</th>\n",
       "      <td>Ketamine Nasal Spray Shows Promise Against Dep...</td>\n",
       "      <td>1</td>\n",
       "    </tr>\n",
       "    <tr>\n",
       "      <th>10312</th>\n",
       "      <td>dont mistake a bad day with depression! everyo...</td>\n",
       "      <td>1</td>\n",
       "    </tr>\n",
       "    <tr>\n",
       "      <th>10313</th>\n",
       "      <td>0</td>\n",
       "      <td>1</td>\n",
       "    </tr>\n",
       "  </tbody>\n",
       "</table>\n",
       "<p>10314 rows × 2 columns</p>\n",
       "</div>"
      ],
      "text/plain": [
       "                                                  tweets  sentiment\n",
       "0      just had a real good moment. i missssssssss hi...          0\n",
       "1             is reading manga  http://plurk.com/p/mzp1e          0\n",
       "2      @comeagainjen http://twitpic.com/2y2lx - http:...          0\n",
       "3      @lapcat Need to send 'em to my accountant tomo...          0\n",
       "4          ADD ME ON MYSPACE!!!  myspace.com/LookThunder          0\n",
       "...                                                  ...        ...\n",
       "10309  No Depression by G Herbo is my mood from now o...          1\n",
       "10310  What do you do when depression succumbs the br...          1\n",
       "10311  Ketamine Nasal Spray Shows Promise Against Dep...          1\n",
       "10312  dont mistake a bad day with depression! everyo...          1\n",
       "10313                                                  0          1\n",
       "\n",
       "[10314 rows x 2 columns]"
      ]
     },
     "execution_count": 50,
     "metadata": {},
     "output_type": "execute_result"
    }
   ],
   "source": [
    "df"
   ]
  },
  {
   "cell_type": "code",
   "execution_count": 51,
   "metadata": {
    "id": "ixkVRKHsQE9h"
   },
   "outputs": [],
   "source": [
    "# Preprocessing\n",
    "\n",
    "# make all lowercase\n",
    "df['tweets']=df['tweets'].str.lower()\n",
    "\n",
    "# remove punctuations\n",
    "all_punc = string.punctuation\n",
    "punc_lst = all_punc\n",
    "def remove_punc(tweet):\n",
    "    lst_char = list(tweet)\n",
    "    cln_tweet = \"\"\n",
    "    for item in lst_char:\n",
    "      if item not in all_punc:\n",
    "        cln_tweet += item\n",
    "    return cln_tweet\n",
    "df['tweets']= df['tweets'].apply(lambda twt: remove_punc(twt))"
   ]
  },
  {
   "cell_type": "code",
   "execution_count": 52,
   "metadata": {
    "colab": {
     "base_uri": "https://localhost:8080/",
     "height": 419
    },
    "id": "m9lblchUSv_Y",
    "outputId": "dd93068b-1a16-48ac-9a3a-e7d00e355a24"
   },
   "outputs": [
    {
     "data": {
      "text/html": [
       "<div>\n",
       "<style scoped>\n",
       "    .dataframe tbody tr th:only-of-type {\n",
       "        vertical-align: middle;\n",
       "    }\n",
       "\n",
       "    .dataframe tbody tr th {\n",
       "        vertical-align: top;\n",
       "    }\n",
       "\n",
       "    .dataframe thead th {\n",
       "        text-align: right;\n",
       "    }\n",
       "</style>\n",
       "<table border=\"1\" class=\"dataframe\">\n",
       "  <thead>\n",
       "    <tr style=\"text-align: right;\">\n",
       "      <th></th>\n",
       "      <th>tweets</th>\n",
       "      <th>sentiment</th>\n",
       "    </tr>\n",
       "  </thead>\n",
       "  <tbody>\n",
       "    <tr>\n",
       "      <th>0</th>\n",
       "      <td>just had a real good moment i missssssssss him...</td>\n",
       "      <td>0</td>\n",
       "    </tr>\n",
       "    <tr>\n",
       "      <th>1</th>\n",
       "      <td>is reading manga  httpplurkcompmzp1e</td>\n",
       "      <td>0</td>\n",
       "    </tr>\n",
       "    <tr>\n",
       "      <th>2</th>\n",
       "      <td>comeagainjen httptwitpiccom2y2lx  httpwwwyoutu...</td>\n",
       "      <td>0</td>\n",
       "    </tr>\n",
       "    <tr>\n",
       "      <th>3</th>\n",
       "      <td>lapcat need to send em to my accountant tomorr...</td>\n",
       "      <td>0</td>\n",
       "    </tr>\n",
       "    <tr>\n",
       "      <th>4</th>\n",
       "      <td>add me on myspace  myspacecomlookthunder</td>\n",
       "      <td>0</td>\n",
       "    </tr>\n",
       "    <tr>\n",
       "      <th>...</th>\n",
       "      <td>...</td>\n",
       "      <td>...</td>\n",
       "    </tr>\n",
       "    <tr>\n",
       "      <th>10309</th>\n",
       "      <td>no depression by g herbo is my mood from now o...</td>\n",
       "      <td>1</td>\n",
       "    </tr>\n",
       "    <tr>\n",
       "      <th>10310</th>\n",
       "      <td>what do you do when depression succumbs the br...</td>\n",
       "      <td>1</td>\n",
       "    </tr>\n",
       "    <tr>\n",
       "      <th>10311</th>\n",
       "      <td>ketamine nasal spray shows promise against dep...</td>\n",
       "      <td>1</td>\n",
       "    </tr>\n",
       "    <tr>\n",
       "      <th>10312</th>\n",
       "      <td>dont mistake a bad day with depression everyon...</td>\n",
       "      <td>1</td>\n",
       "    </tr>\n",
       "    <tr>\n",
       "      <th>10313</th>\n",
       "      <td>0</td>\n",
       "      <td>1</td>\n",
       "    </tr>\n",
       "  </tbody>\n",
       "</table>\n",
       "<p>10314 rows × 2 columns</p>\n",
       "</div>"
      ],
      "text/plain": [
       "                                                  tweets  sentiment\n",
       "0      just had a real good moment i missssssssss him...          0\n",
       "1                   is reading manga  httpplurkcompmzp1e          0\n",
       "2      comeagainjen httptwitpiccom2y2lx  httpwwwyoutu...          0\n",
       "3      lapcat need to send em to my accountant tomorr...          0\n",
       "4               add me on myspace  myspacecomlookthunder          0\n",
       "...                                                  ...        ...\n",
       "10309  no depression by g herbo is my mood from now o...          1\n",
       "10310  what do you do when depression succumbs the br...          1\n",
       "10311  ketamine nasal spray shows promise against dep...          1\n",
       "10312  dont mistake a bad day with depression everyon...          1\n",
       "10313                                                  0          1\n",
       "\n",
       "[10314 rows x 2 columns]"
      ]
     },
     "execution_count": 52,
     "metadata": {},
     "output_type": "execute_result"
    }
   ],
   "source": [
    "df"
   ]
  },
  {
   "cell_type": "code",
   "execution_count": 54,
   "metadata": {
    "id": "k16wvKINFuyY"
   },
   "outputs": [],
   "source": [
    "stopwords_lst = set(stopwords.words('english'))"
   ]
  },
  {
   "cell_type": "code",
   "execution_count": 55,
   "metadata": {
    "id": "74oYq785Fu7b"
   },
   "outputs": [],
   "source": [
    "# remove stop words\n",
    "def remove_stopwords(tweet):\n",
    "    return \" \".join([word for word in str(tweet).split() if word not in stopwords_lst])\n",
    "\n",
    "df['tweets'] = df['tweets'].apply(lambda twt: remove_stopwords(twt))"
   ]
  },
  {
   "cell_type": "code",
   "execution_count": 56,
   "metadata": {
    "colab": {
     "base_uri": "https://localhost:8080/",
     "height": 419
    },
    "id": "uYY8BnqcFu-B",
    "outputId": "a0f4ec69-330b-4ceb-d5e0-543d7a8e0f1d"
   },
   "outputs": [
    {
     "data": {
      "text/html": [
       "<div>\n",
       "<style scoped>\n",
       "    .dataframe tbody tr th:only-of-type {\n",
       "        vertical-align: middle;\n",
       "    }\n",
       "\n",
       "    .dataframe tbody tr th {\n",
       "        vertical-align: top;\n",
       "    }\n",
       "\n",
       "    .dataframe thead th {\n",
       "        text-align: right;\n",
       "    }\n",
       "</style>\n",
       "<table border=\"1\" class=\"dataframe\">\n",
       "  <thead>\n",
       "    <tr style=\"text-align: right;\">\n",
       "      <th></th>\n",
       "      <th>tweets</th>\n",
       "      <th>sentiment</th>\n",
       "    </tr>\n",
       "  </thead>\n",
       "  <tbody>\n",
       "    <tr>\n",
       "      <th>0</th>\n",
       "      <td>real good moment missssssssss much</td>\n",
       "      <td>0</td>\n",
       "    </tr>\n",
       "    <tr>\n",
       "      <th>1</th>\n",
       "      <td>reading manga httpplurkcompmzp1e</td>\n",
       "      <td>0</td>\n",
       "    </tr>\n",
       "    <tr>\n",
       "      <th>2</th>\n",
       "      <td>comeagainjen httptwitpiccom2y2lx httpwwwyoutub...</td>\n",
       "      <td>0</td>\n",
       "    </tr>\n",
       "    <tr>\n",
       "      <th>3</th>\n",
       "      <td>lapcat need send em accountant tomorrow oddly ...</td>\n",
       "      <td>0</td>\n",
       "    </tr>\n",
       "    <tr>\n",
       "      <th>4</th>\n",
       "      <td>add myspace myspacecomlookthunder</td>\n",
       "      <td>0</td>\n",
       "    </tr>\n",
       "    <tr>\n",
       "      <th>...</th>\n",
       "      <td>...</td>\n",
       "      <td>...</td>\n",
       "    </tr>\n",
       "    <tr>\n",
       "      <th>10309</th>\n",
       "      <td>depression g herbo mood im done stressing peop...</td>\n",
       "      <td>1</td>\n",
       "    </tr>\n",
       "    <tr>\n",
       "      <th>10310</th>\n",
       "      <td>depression succumbs brain makes feel like youl...</td>\n",
       "      <td>1</td>\n",
       "    </tr>\n",
       "    <tr>\n",
       "      <th>10311</th>\n",
       "      <td>ketamine nasal spray shows promise depression ...</td>\n",
       "      <td>1</td>\n",
       "    </tr>\n",
       "    <tr>\n",
       "      <th>10312</th>\n",
       "      <td>dont mistake bad day depression everyone em</td>\n",
       "      <td>1</td>\n",
       "    </tr>\n",
       "    <tr>\n",
       "      <th>10313</th>\n",
       "      <td>0</td>\n",
       "      <td>1</td>\n",
       "    </tr>\n",
       "  </tbody>\n",
       "</table>\n",
       "<p>10314 rows × 2 columns</p>\n",
       "</div>"
      ],
      "text/plain": [
       "                                                  tweets  sentiment\n",
       "0                     real good moment missssssssss much          0\n",
       "1                       reading manga httpplurkcompmzp1e          0\n",
       "2      comeagainjen httptwitpiccom2y2lx httpwwwyoutub...          0\n",
       "3      lapcat need send em accountant tomorrow oddly ...          0\n",
       "4                      add myspace myspacecomlookthunder          0\n",
       "...                                                  ...        ...\n",
       "10309  depression g herbo mood im done stressing peop...          1\n",
       "10310  depression succumbs brain makes feel like youl...          1\n",
       "10311  ketamine nasal spray shows promise depression ...          1\n",
       "10312        dont mistake bad day depression everyone em          1\n",
       "10313                                                  0          1\n",
       "\n",
       "[10314 rows x 2 columns]"
      ]
     },
     "execution_count": 56,
     "metadata": {},
     "output_type": "execute_result"
    }
   ],
   "source": [
    "df"
   ]
  },
  {
   "cell_type": "code",
   "execution_count": 57,
   "metadata": {
    "id": "IQ6UR8W4FvAL"
   },
   "outputs": [],
   "source": [
    "def remove_URLs(tweet):\n",
    "    return re.sub('((www.[^s]+)|(https?://[^s]+))',' ',tweet)\n",
    "df['tweets'] = df['tweets'].apply(lambda x: remove_URLs(x))"
   ]
  },
  {
   "cell_type": "code",
   "execution_count": 58,
   "metadata": {
    "colab": {
     "base_uri": "https://localhost:8080/",
     "height": 419
    },
    "id": "vKi818lnTbUe",
    "outputId": "09d9857d-b985-4384-819c-2c5a1b3703ad"
   },
   "outputs": [
    {
     "data": {
      "text/html": [
       "<div>\n",
       "<style scoped>\n",
       "    .dataframe tbody tr th:only-of-type {\n",
       "        vertical-align: middle;\n",
       "    }\n",
       "\n",
       "    .dataframe tbody tr th {\n",
       "        vertical-align: top;\n",
       "    }\n",
       "\n",
       "    .dataframe thead th {\n",
       "        text-align: right;\n",
       "    }\n",
       "</style>\n",
       "<table border=\"1\" class=\"dataframe\">\n",
       "  <thead>\n",
       "    <tr style=\"text-align: right;\">\n",
       "      <th></th>\n",
       "      <th>tweets</th>\n",
       "      <th>sentiment</th>\n",
       "    </tr>\n",
       "  </thead>\n",
       "  <tbody>\n",
       "    <tr>\n",
       "      <th>0</th>\n",
       "      <td>real good moment missssssssss much</td>\n",
       "      <td>0</td>\n",
       "    </tr>\n",
       "    <tr>\n",
       "      <th>1</th>\n",
       "      <td>reading manga httpplurkcompmzp1e</td>\n",
       "      <td>0</td>\n",
       "    </tr>\n",
       "    <tr>\n",
       "      <th>2</th>\n",
       "      <td>comeagainjen httptwitpiccom2y2lx http</td>\n",
       "      <td>0</td>\n",
       "    </tr>\n",
       "    <tr>\n",
       "      <th>3</th>\n",
       "      <td>lapcat need send em accountant tomorrow oddly ...</td>\n",
       "      <td>0</td>\n",
       "    </tr>\n",
       "    <tr>\n",
       "      <th>4</th>\n",
       "      <td>add myspace myspacecomlookthunder</td>\n",
       "      <td>0</td>\n",
       "    </tr>\n",
       "    <tr>\n",
       "      <th>...</th>\n",
       "      <td>...</td>\n",
       "      <td>...</td>\n",
       "    </tr>\n",
       "    <tr>\n",
       "      <th>10309</th>\n",
       "      <td>depression g herbo mood im done stressing peop...</td>\n",
       "      <td>1</td>\n",
       "    </tr>\n",
       "    <tr>\n",
       "      <th>10310</th>\n",
       "      <td>depression succumbs brain makes feel like youl...</td>\n",
       "      <td>1</td>\n",
       "    </tr>\n",
       "    <tr>\n",
       "      <th>10311</th>\n",
       "      <td>ketamine nasal spray shows promise depression ...</td>\n",
       "      <td>1</td>\n",
       "    </tr>\n",
       "    <tr>\n",
       "      <th>10312</th>\n",
       "      <td>dont mistake bad day depression everyone em</td>\n",
       "      <td>1</td>\n",
       "    </tr>\n",
       "    <tr>\n",
       "      <th>10313</th>\n",
       "      <td>0</td>\n",
       "      <td>1</td>\n",
       "    </tr>\n",
       "  </tbody>\n",
       "</table>\n",
       "<p>10314 rows × 2 columns</p>\n",
       "</div>"
      ],
      "text/plain": [
       "                                                  tweets  sentiment\n",
       "0                     real good moment missssssssss much          0\n",
       "1                       reading manga httpplurkcompmzp1e          0\n",
       "2                 comeagainjen httptwitpiccom2y2lx http           0\n",
       "3      lapcat need send em accountant tomorrow oddly ...          0\n",
       "4                      add myspace myspacecomlookthunder          0\n",
       "...                                                  ...        ...\n",
       "10309  depression g herbo mood im done stressing peop...          1\n",
       "10310  depression succumbs brain makes feel like youl...          1\n",
       "10311  ketamine nasal spray shows promise depression ...          1\n",
       "10312        dont mistake bad day depression everyone em          1\n",
       "10313                                                  0          1\n",
       "\n",
       "[10314 rows x 2 columns]"
      ]
     },
     "execution_count": 58,
     "metadata": {},
     "output_type": "execute_result"
    }
   ],
   "source": [
    "df"
   ]
  },
  {
   "cell_type": "code",
   "execution_count": 11,
   "metadata": {
    "id": "OOlg1iDdGAUI"
   },
   "outputs": [],
   "source": [
    "def remove_numbers(tweet):\n",
    "    return re.sub('[0-9]+', '', tweet)\n",
    "df['tweets'] = df['tweets'].apply(lambda x: remove_numbers(x))"
   ]
  },
  {
   "cell_type": "code",
   "execution_count": 12,
   "metadata": {
    "id": "i_oMXFqwTKgR"
   },
   "outputs": [],
   "source": [
    "# shuffle the dataset\n",
    "df = df.sample(frac = 1) # shuffle"
   ]
  },
  {
   "cell_type": "code",
   "execution_count": 13,
   "metadata": {
    "id": "tJIP-ZDkGASl"
   },
   "outputs": [],
   "source": [
    "# tokenize\n",
    "tokenizer = TweetTokenizer(r'w+')\n",
    "df['tweets'] = df['tweets'].apply(tokenizer.tokenize)"
   ]
  },
  {
   "cell_type": "code",
   "execution_count": 14,
   "metadata": {
    "id": "42qFDV2LGAPU"
   },
   "outputs": [],
   "source": [
    "st = nltk.PorterStemmer()\n",
    "def stemming(data):\n",
    "    text = [st.stem(word) for word in data]\n",
    "    return text\n",
    "df['tweets']= df['tweets'].apply(lambda x: stemming(x))"
   ]
  },
  {
   "cell_type": "code",
   "execution_count": 15,
   "metadata": {
    "id": "FifLVgQYdT0C"
   },
   "outputs": [],
   "source": [
    "X=df['tweets']\n",
    "y=df['sentiment']"
   ]
  },
  {
   "cell_type": "code",
   "execution_count": 16,
   "metadata": {
    "id": "3sn8UfElGALZ"
   },
   "outputs": [],
   "source": [
    "X_train, X_test, y_train, y_test = train_test_split(X,y,test_size = 0.2, random_state = 40)"
   ]
  },
  {
   "cell_type": "code",
   "execution_count": 17,
   "metadata": {
    "colab": {
     "base_uri": "https://localhost:8080/"
    },
    "id": "mswIghB7GAH1",
    "outputId": "3b7fbf90-3f39-4a37-9391-6e7350d16970"
   },
   "outputs": [
    {
     "data": {
      "text/plain": [
       "8251"
      ]
     },
     "execution_count": 17,
     "metadata": {},
     "output_type": "execute_result"
    }
   ],
   "source": [
    "len(X_train)"
   ]
  },
  {
   "cell_type": "code",
   "execution_count": 18,
   "metadata": {
    "colab": {
     "base_uri": "https://localhost:8080/"
    },
    "id": "4Eng8i-qGAER",
    "outputId": "b5e0aba2-7405-42be-cc60-746a42dd8e02"
   },
   "outputs": [
    {
     "data": {
      "text/plain": [
       "2063"
      ]
     },
     "execution_count": 18,
     "metadata": {},
     "output_type": "execute_result"
    }
   ],
   "source": [
    "len(X_test)"
   ]
  },
  {
   "cell_type": "code",
   "execution_count": 20,
   "metadata": {
    "id": "2Dj7EA_pdsyz"
   },
   "outputs": [],
   "source": [
    "# RNN\n",
    "from collections import Counter\n",
    "counter = Counter([words for reviews in X_train for words in reviews])\n",
    "df = pd.DataFrame()\n",
    "df['key'] = counter.keys()\n",
    "df['value'] = counter.values()\n",
    "df.sort_values(by='value', ascending=False, inplace=True)\n",
    "\n",
    "# print (df.shape[0])\n",
    "# print (df[:10000].value.sum()/df.value.sum())\n",
    "# top_10k_words = list(df[:10000].key.values)\n",
    "all_listed_words = list(df.key.values)"
   ]
  },
  {
   "cell_type": "code",
   "execution_count": 21,
   "metadata": {
    "colab": {
     "base_uri": "https://localhost:8080/"
    },
    "id": "xRU0Tg6beTMU",
    "outputId": "9343224d-8cb0-474e-abfd-3dc99842f21f"
   },
   "outputs": [
    {
     "data": {
      "text/plain": [
       "16760"
      ]
     },
     "execution_count": 21,
     "metadata": {},
     "output_type": "execute_result"
    }
   ],
   "source": [
    "len(all_listed_words)"
   ]
  },
  {
   "cell_type": "code",
   "execution_count": 22,
   "metadata": {
    "id": "H-2X2HHsds1D"
   },
   "outputs": [],
   "source": [
    "def get_encoded_input(review):\n",
    "    if len(review) > 500:\n",
    "        review = review[:500]\n",
    "    encoding = []\n",
    "    for word in review:\n",
    "        try:\n",
    "            index = all_listed_words.index(word)\n",
    "        except:\n",
    "            index = 10000\n",
    "        encoding.append(index)\n",
    "    while len(encoding) < 500:\n",
    "        encoding.append(10001)\n",
    "    return encoding"
   ]
  },
  {
   "cell_type": "code",
   "execution_count": 23,
   "metadata": {
    "colab": {
     "base_uri": "https://localhost:8080/"
    },
    "id": "IPHuFL0pds28",
    "outputId": "07d21aa6-fdac-43ed-b57c-7dac788bd9ce"
   },
   "outputs": [
    {
     "name": "stdout",
     "output_type": "stream",
     "text": [
      "(8251, 500) (2063, 500)\n"
     ]
    }
   ],
   "source": [
    "training_data = np.array([get_encoded_input(review) for review in X_train])\n",
    "testing_data = np.array([get_encoded_input(review) for review in X_test])\n",
    "print (training_data.shape, testing_data.shape)"
   ]
  },
  {
   "cell_type": "code",
   "execution_count": 24,
   "metadata": {
    "id": "B6xygPtydtNQ"
   },
   "outputs": [],
   "source": [
    "train_labels = np.array(y_train)\n",
    "test_labels = np.array(y_test)"
   ]
  },
  {
   "cell_type": "code",
   "execution_count": 25,
   "metadata": {
    "id": "W31AmumfdtPt"
   },
   "outputs": [],
   "source": [
    "from tensorflow.keras import backend as K\n",
    "\n",
    "def recall_m(y_true, y_pred):\n",
    "    true_positives = K.sum(K.round(K.clip(y_true * y_pred, 0, 1)))\n",
    "    possible_positives = K.sum(K.round(K.clip(y_true, 0, 1)))\n",
    "    recall = true_positives / (possible_positives + K.epsilon())\n",
    "    return recall\n",
    "\n",
    "def precision_m(y_true, y_pred):\n",
    "    true_positives = K.sum(K.round(K.clip(y_true * y_pred, 0, 1)))\n",
    "    predicted_positives = K.sum(K.round(K.clip(y_pred, 0, 1)))\n",
    "    precision = true_positives / (predicted_positives + K.epsilon())\n",
    "    return precision\n",
    "\n",
    "def f1_m(y_true, y_pred):\n",
    "    precision = precision_m(y_true, y_pred)\n",
    "    recall = recall_m(y_true, y_pred)\n",
    "    return 2*((precision*recall)/(precision+recall+K.epsilon()))"
   ]
  },
  {
   "cell_type": "code",
   "execution_count": 26,
   "metadata": {
    "colab": {
     "base_uri": "https://localhost:8080/"
    },
    "id": "R-Swit56dtRj",
    "outputId": "acc4d532-31b0-496c-fde2-ab2f5c7b8c25"
   },
   "outputs": [
    {
     "name": "stdout",
     "output_type": "stream",
     "text": [
      "Model: \"model\"\n",
      "_________________________________________________________________\n",
      "Layer (type)                 Output Shape              Param #   \n",
      "=================================================================\n",
      "input_1 (InputLayer)         [(None, 500)]             0         \n",
      "_________________________________________________________________\n",
      "embedding (Embedding)        (None, 500, 32)           320064    \n",
      "_________________________________________________________________\n",
      "bidirectional (Bidirectional (None, 500, 100)          33200     \n",
      "_________________________________________________________________\n",
      "bidirectional_1 (Bidirection (None, 500, 60)           31440     \n",
      "_________________________________________________________________\n",
      "bidirectional_2 (Bidirection (None, 500, 60)           21840     \n",
      "_________________________________________________________________\n",
      "dense (Dense)                (None, 500, 1)            61        \n",
      "_________________________________________________________________\n",
      "activation (Activation)      (None, 500, 1)            0         \n",
      "=================================================================\n",
      "Total params: 406,605\n",
      "Trainable params: 406,605\n",
      "Non-trainable params: 0\n",
      "_________________________________________________________________\n"
     ]
    }
   ],
   "source": [
    "import tensorflow\n",
    "from tensorflow.keras.layers import Activation\n",
    " \n",
    "input_data = tensorflow.keras.layers.Input(shape=(500))\n",
    " \n",
    "data = tensorflow.keras.layers.Embedding(input_dim=10002, output_dim=32, input_length=500)(input_data)\n",
    " \n",
    "data = tensorflow.keras.layers.Bidirectional(tensorflow.keras.layers.LSTM(50, return_sequences=True))(data)\n",
    "data = tensorflow.keras.layers.Bidirectional(tensorflow.keras.layers.LSTM(30, return_sequences=True))(data)\n",
    "data = tensorflow.keras.layers.Bidirectional(tensorflow.keras.layers.LSTM(30, return_sequences=True))(data)\n",
    "\n",
    "data = tensorflow.keras.layers.Dense(1)(data)\n",
    "output_data = tensorflow.keras.layers.Activation('sigmoid')(data)\n",
    " \n",
    "model = tensorflow.keras.models.Model(inputs=input_data, outputs=output_data)\n",
    " \n",
    "model.compile(loss='binary_crossentropy', optimizer='adam', metrics=['accuracy',f1_m,precision_m, recall_m])\n",
    "model.summary()"
   ]
  },
  {
   "cell_type": "code",
   "execution_count": 27,
   "metadata": {
    "colab": {
     "base_uri": "https://localhost:8080/"
    },
    "id": "0b97Zvz3gqma",
    "outputId": "bb001197-bdef-4703-ad52-38eab3894377"
   },
   "outputs": [
    {
     "name": "stdout",
     "output_type": "stream",
     "text": [
      "Epoch 1/15\n",
      "33/33 [==============================] - 37s 648ms/step - loss: 0.5554 - accuracy: 0.7771 - f1_m: 0.0129 - precision_m: 0.0079 - recall_m: 0.0362 - val_loss: 0.5422 - val_accuracy: 0.7698 - val_f1_m: 0.0000e+00 - val_precision_m: 0.0000e+00 - val_recall_m: 0.0000e+00\n",
      "Epoch 2/15\n",
      "33/33 [==============================] - 18s 556ms/step - loss: 0.5298 - accuracy: 0.7773 - f1_m: 0.5800 - precision_m: 0.5517 - recall_m: 0.8823 - val_loss: 0.5375 - val_accuracy: 0.7709 - val_f1_m: 1.2184 - val_precision_m: 0.8531 - val_recall_m: 2.2700\n",
      "Epoch 3/15\n",
      "33/33 [==============================] - 18s 550ms/step - loss: 0.5255 - accuracy: 0.7812 - f1_m: 1.6554 - precision_m: 0.9329 - recall_m: 10.5160 - val_loss: 0.4854 - val_accuracy: 0.8118 - val_f1_m: 1.8861 - val_precision_m: 0.9530 - val_recall_m: 94.3755\n",
      "Epoch 4/15\n",
      "33/33 [==============================] - 18s 551ms/step - loss: 0.2618 - accuracy: 0.9327 - f1_m: 1.8416 - precision_m: 0.9233 - recall_m: 386.5477 - val_loss: 0.2249 - val_accuracy: 0.9483 - val_f1_m: 1.7631 - val_precision_m: 0.8835 - val_recall_m: 432.6024\n",
      "Epoch 5/15\n",
      "33/33 [==============================] - 18s 550ms/step - loss: 0.1101 - accuracy: 0.9766 - f1_m: 1.8615 - precision_m: 0.9326 - recall_m: 484.3349 - val_loss: 0.1716 - val_accuracy: 0.9602 - val_f1_m: 1.8320 - val_precision_m: 0.9180 - val_recall_m: 435.9454\n",
      "Epoch 6/15\n",
      "33/33 [==============================] - 18s 552ms/step - loss: 0.0655 - accuracy: 0.9873 - f1_m: 1.9380 - precision_m: 0.9709 - recall_m: 486.6785 - val_loss: 0.1597 - val_accuracy: 0.9650 - val_f1_m: 1.8474 - val_precision_m: 0.9256 - val_recall_m: 454.7329\n",
      "Epoch 7/15\n",
      "33/33 [==============================] - 18s 553ms/step - loss: 0.0479 - accuracy: 0.9914 - f1_m: 1.9557 - precision_m: 0.9798 - recall_m: 490.6540 - val_loss: 0.1593 - val_accuracy: 0.9654 - val_f1_m: 1.8294 - val_precision_m: 0.9165 - val_recall_m: 461.3352\n",
      "Epoch 8/15\n",
      "33/33 [==============================] - 18s 553ms/step - loss: 0.0341 - accuracy: 0.9943 - f1_m: 1.9681 - precision_m: 0.9860 - recall_m: 494.6772 - val_loss: 0.1599 - val_accuracy: 0.9675 - val_f1_m: 1.8463 - val_precision_m: 0.9250 - val_recall_m: 460.2323\n",
      "Epoch 9/15\n",
      "33/33 [==============================] - 18s 551ms/step - loss: 0.0297 - accuracy: 0.9952 - f1_m: 1.9720 - precision_m: 0.9880 - recall_m: 495.2732 - val_loss: 0.1507 - val_accuracy: 0.9718 - val_f1_m: 1.8870 - val_precision_m: 0.9455 - val_recall_m: 457.4080\n",
      "Epoch 10/15\n",
      "33/33 [==============================] - 18s 556ms/step - loss: 0.0217 - accuracy: 0.9969 - f1_m: 1.9871 - precision_m: 0.9955 - recall_m: 495.0100 - val_loss: 0.1449 - val_accuracy: 0.9742 - val_f1_m: 1.9120 - val_precision_m: 0.9580 - val_recall_m: 455.6431\n",
      "Epoch 11/15\n",
      "33/33 [==============================] - 18s 553ms/step - loss: 0.0161 - accuracy: 0.9978 - f1_m: 1.9927 - precision_m: 0.9984 - recall_m: 496.2968 - val_loss: 0.1489 - val_accuracy: 0.9747 - val_f1_m: 1.9053 - val_precision_m: 0.9547 - val_recall_m: 458.3944\n",
      "Epoch 12/15\n",
      "33/33 [==============================] - 18s 553ms/step - loss: 0.0144 - accuracy: 0.9981 - f1_m: 1.9937 - precision_m: 0.9989 - recall_m: 496.0894 - val_loss: 0.1528 - val_accuracy: 0.9752 - val_f1_m: 1.9088 - val_precision_m: 0.9564 - val_recall_m: 458.3867\n",
      "Epoch 13/15\n",
      "33/33 [==============================] - 18s 550ms/step - loss: 0.0135 - accuracy: 0.9982 - f1_m: 1.9938 - precision_m: 0.9989 - recall_m: 496.6459 - val_loss: 0.1517 - val_accuracy: 0.9757 - val_f1_m: 1.9120 - val_precision_m: 0.9580 - val_recall_m: 458.4346\n",
      "Epoch 14/15\n",
      "33/33 [==============================] - 18s 553ms/step - loss: 0.0119 - accuracy: 0.9984 - f1_m: 1.9950 - precision_m: 0.9995 - recall_m: 496.7801 - val_loss: 0.1558 - val_accuracy: 0.9758 - val_f1_m: 1.9067 - val_precision_m: 0.9553 - val_recall_m: 460.5617\n",
      "Epoch 15/15\n",
      "33/33 [==============================] - 18s 555ms/step - loss: 0.0111 - accuracy: 0.9985 - f1_m: 1.9950 - precision_m: 0.9995 - recall_m: 497.0408 - val_loss: 0.1593 - val_accuracy: 0.9758 - val_f1_m: 1.9065 - val_precision_m: 0.9553 - val_recall_m: 460.6076\n"
     ]
    }
   ],
   "source": [
    "historySimpleRNN = model.fit(training_data, train_labels, epochs=15, batch_size=256, validation_data=(testing_data, test_labels))\n"
   ]
  },
  {
   "cell_type": "code",
   "execution_count": 28,
   "metadata": {
    "colab": {
     "base_uri": "https://localhost:8080/",
     "height": 312
    },
    "id": "jKg3lxkCgDYR",
    "outputId": "128a549b-f2f0-46c1-d6f9-8a10a6d0ac7f"
   },
   "outputs": [
    {
     "data": {
      "image/png": "[encoded data removed]",
      "text/plain": [
       "<Figure size 432x288 with 1 Axes>"
      ]
     },
     "metadata": {
      "needs_background": "light"
     },
     "output_type": "display_data"
    },
    {
     "data": {
      "text/plain": [
       "<Figure size 432x288 with 0 Axes>"
      ]
     },
     "metadata": {},
     "output_type": "display_data"
    }
   ],
   "source": [
    "plt.plot(historySimpleRNN.history['accuracy'])\n",
    "plt.plot(historySimpleRNN.history['val_accuracy'])\n",
    "plt.title('model accuracy')\n",
    "plt.ylabel('accuracy')\n",
    "plt.xlabel('epoch')\n",
    "plt.legend(['train', 'val'], loc='upper left')\n",
    "plt.show()\n",
    "plt.savefig('model_acc.png')"
   ]
  },
  {
   "cell_type": "code",
   "execution_count": 34,
   "metadata": {
    "colab": {
     "base_uri": "https://localhost:8080/",
     "height": 312
    },
    "id": "yk45oQmggDQr",
    "outputId": "838bc91b-8ac0-4afc-92f2-82a39833085e"
   },
   "outputs": [
    {
     "data": {
      "image/png": "[encoded data removed]",
      "text/plain": [
       "<Figure size 432x288 with 1 Axes>"
      ]
     },
     "metadata": {
      "needs_background": "light"
     },
     "output_type": "display_data"
    },
    {
     "data": {
      "text/plain": [
       "<Figure size 432x288 with 0 Axes>"
      ]
     },
     "metadata": {},
     "output_type": "display_data"
    }
   ],
   "source": [
    "plt.plot(historySimpleRNN.history['precision_m'])\n",
    "plt.plot(historySimpleRNN.history['val_precision_m'])\n",
    "plt.title('model precision')\n",
    "plt.ylabel('precision')\n",
    "plt.xlabel('epoch')\n",
    "plt.legend(['train', 'val'], loc='upper left')\n",
    "plt.show()\n",
    "plt.savefig('model_precision.png')"
   ]
  },
  {
   "cell_type": "code",
   "execution_count": 33,
   "metadata": {
    "colab": {
     "base_uri": "https://localhost:8080/",
     "height": 312
    },
    "id": "41r_LE_OgDHR",
    "outputId": "44c51728-62eb-4c69-d6a6-8a1a681db28e"
   },
   "outputs": [
    {
     "data": {
      "image/png": "[encoded data removed]",
      "text/plain": [
       "<Figure size 432x288 with 1 Axes>"
      ]
     },
     "metadata": {
      "needs_background": "light"
     },
     "output_type": "display_data"
    },
    {
     "data": {
      "text/plain": [
       "<Figure size 432x288 with 0 Axes>"
      ]
     },
     "metadata": {},
     "output_type": "display_data"
    }
   ],
   "source": [
    "plt.plot(historySimpleRNN.history['recall_m'])\n",
    "plt.plot(historySimpleRNN.history['val_recall_m'])\n",
    "plt.title('model recall')\n",
    "plt.ylabel('recall')\n",
    "plt.xlabel('epoch')\n",
    "plt.legend(['train', 'val'], loc='upper left')\n",
    "plt.show()\n",
    "plt.savefig('model_recall.png')"
   ]
  },
  {
   "cell_type": "code",
   "execution_count": 35,
   "metadata": {
    "colab": {
     "base_uri": "https://localhost:8080/",
     "height": 312
    },
    "id": "KAEFLW88gC3Q",
    "outputId": "48556aeb-c4b1-4f0d-df5c-66190cd29608"
   },
   "outputs": [
    {
     "data": {
      "image/png": "[encoded data removed]",
      "text/plain": [
       "<Figure size 432x288 with 1 Axes>"
      ]
     },
     "metadata": {
      "needs_background": "light"
     },
     "output_type": "display_data"
    },
    {
     "data": {
      "text/plain": [
       "<Figure size 432x288 with 0 Axes>"
      ]
     },
     "metadata": {},
     "output_type": "display_data"
    }
   ],
   "source": [
    "plt.plot(historySimpleRNN.history['f1_m'])\n",
    "plt.plot(historySimpleRNN.history['val_f1_m'])\n",
    "plt.title('Model F1 Score')\n",
    "plt.ylabel('F1 Score')\n",
    "plt.xlabel('epoch')\n",
    "plt.legend(['train', 'val'], loc='upper left')\n",
    "plt.show()\n",
    "plt.savefig('model_f1.png')"
   ]
  },
  {
   "cell_type": "code",
   "execution_count": 44,
   "metadata": {
    "id": "ZJoDGpgwI8uW"
   },
   "outputs": [],
   "source": []
  },
  {
   "cell_type": "code",
   "execution_count": 44,
   "metadata": {
    "id": "J_9RKlo_I8oA"
   },
   "outputs": [],
   "source": []
  },
  {
   "cell_type": "code",
   "execution_count": null,
   "metadata": {
    "id": "m7FnPnOnI8k-"
   },
   "outputs": [],
   "source": []
  },
  {
   "cell_type": "code",
   "execution_count": null,
   "metadata": {
    "id": "3yL6PryyI8hH"
   },
   "outputs": [],
   "source": []
  }
 ],
 "metadata": {
  "accelerator": "GPU",
  "colab": {
   "collapsed_sections": [],
   "name": "softCompAssignment03.ipynb",
   "provenance": []
  },
  "kernelspec": {
   "display_name": "Python 3",
   "language": "python",
   "name": "python3"
  },
  "language_info": {
   "codemirror_mode": {
    "name": "ipython",
    "version": 3
   },
   "file_extension": ".py",
   "mimetype": "text/x-python",
   "name": "python",
   "nbconvert_exporter": "python",
   "pygments_lexer": "ipython3",
   "version": "3.7.4"
  }
 },
 "nbformat": 4,
 "nbformat_minor": 1
}
